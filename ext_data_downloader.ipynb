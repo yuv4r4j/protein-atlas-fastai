{
 "cells": [
  {
   "cell_type": "markdown",
   "metadata": {},
   "source": [
    "https://www.kaggle.com/c/human-protein-atlas-image-classification/discussion/69984"
   ]
  },
  {
   "cell_type": "markdown",
   "metadata": {},
   "source": [
    "https://www.kaggle.com/c/human-protein-atlas-image-classification/discussion/69984#437386"
   ]
  },
  {
   "cell_type": "code",
   "execution_count": null,
   "metadata": {},
   "outputs": [
    {
     "name": "stdout",
     "output_type": "stream",
     "text": [
      "Parent process 5234.\n"
     ]
    },
    {
     "name": "stderr",
     "output_type": "stream",
     "text": [
      "  0%|          | 0/3109 [00:00<?, ?it/s, 18]"
     ]
    },
    {
     "name": "stdout",
     "output_type": "stream",
     "text": [
      "Waiting for all subprocesses done...\n"
     ]
    },
    {
     "name": "stderr",
     "output_type": "stream",
     "text": [
      "  1%|          | 24/3109 [01:57<4:04:14,  4.75s/it, 1]"
     ]
    }
   ],
   "source": [
    "\n",
    "    \n",
    "import os\n",
    "import errno\n",
    "from multiprocessing.pool import Pool\n",
    "from tqdm import tqdm\n",
    "import requests\n",
    "import pandas as pd\n",
    "from PIL import Image\n",
    "\n",
    "def download(pid, image_list, base_url, save_dir, image_size=(512, 512)):\n",
    "    colors = ['red', 'green', 'blue', 'yellow']\n",
    "    for i in tqdm(image_list, postfix=pid):\n",
    "        img_id = i.split('_', 1)\n",
    "        for color in colors:\n",
    "            img_path = img_id[0] + '/' + img_id[1] + '_' + color + '.jpg'\n",
    "            img_name = i + '_' + color + '.png'\n",
    "            img_url = base_url + img_path\n",
    "\n",
    "            # Get the raw response from the url\n",
    "            r = requests.get(img_url, allow_redirects=True, stream=True)\n",
    "            r.raw.decode_content = True\n",
    "\n",
    "            # Use PIL to resize the image and to convert it to L\n",
    "            # (8-bit pixels, black and white)\n",
    "            im = Image.open(r.raw)\n",
    "            im = im.resize(image_size, Image.LANCZOS).convert('L')\n",
    "            im.save(os.path.join(save_dir, img_name), 'PNG')\n",
    "\n",
    "if __name__ == '__main__':\n",
    "    # Parameters\n",
    "    process_num = 24\n",
    "    image_size = (512, 512)\n",
    "    url = 'http://v18.proteinatlas.org/images/'\n",
    "    csv_path =  \"/home/haider/data/human_protein_atlas/HPAv18RBGY_wodpl.csv\"\n",
    "    save_dir = \"/home/haider/data/human_protein_atlas/ext_train/\"\n",
    "\n",
    "    # Create the directory to save the images in case it doesn't exist\n",
    "    try:\n",
    "        os.makedirs(save_dir)\n",
    "    except OSError as exc:\n",
    "        if exc.errno != errno.EEXIST:\n",
    "            raise\n",
    "        pass\n",
    "\n",
    "    print('Parent process %s.' % os.getpid())\n",
    "    img_list = pd.read_csv(csv_path)['Id']\n",
    "    list_len = len(img_list)\n",
    "    p = Pool(process_num)\n",
    "    for i in range(process_num):\n",
    "        start = int(i * list_len / process_num)\n",
    "        end = int((i + 1) * list_len / process_num)\n",
    "        process_images = img_list[start:end]\n",
    "        p.apply_async(\n",
    "            download, args=(str(i), process_images, url, save_dir, image_size)\n",
    "        )\n",
    "    print('Waiting for all subprocesses done...')\n",
    "    p.close()\n",
    "    p.join()\n",
    "    print('All subprocesses done.')\n"
   ]
  },
  {
   "cell_type": "code",
   "execution_count": 3,
   "metadata": {},
   "outputs": [
    {
     "name": "stdout",
     "output_type": "stream",
     "text": [
      "> \u001b[0;32m/home/haider/anaconda3/envs/fastai-v1/lib/python3.7/site-packages/IPython/core/compilerop.py\u001b[0m(100)\u001b[0;36mast_parse\u001b[0;34m()\u001b[0m\n",
      "\u001b[0;32m     98 \u001b[0;31m        \u001b[0mArguments\u001b[0m \u001b[0mare\u001b[0m \u001b[0mexactly\u001b[0m \u001b[0mthe\u001b[0m \u001b[0msame\u001b[0m \u001b[0;32mas\u001b[0m \u001b[0mast\u001b[0m\u001b[0;34m.\u001b[0m\u001b[0mparse\u001b[0m \u001b[0;34m(\u001b[0m\u001b[0;32min\u001b[0m \u001b[0mthe\u001b[0m \u001b[0mstandard\u001b[0m \u001b[0mlibrary\u001b[0m\u001b[0;34m)\u001b[0m\u001b[0;34m,\u001b[0m\u001b[0;34m\u001b[0m\u001b[0;34m\u001b[0m\u001b[0m\n",
      "\u001b[0m\u001b[0;32m     99 \u001b[0;31m        and are passed to the built-in compile function.\"\"\"\n",
      "\u001b[0m\u001b[0;32m--> 100 \u001b[0;31m        \u001b[0;32mreturn\u001b[0m \u001b[0mcompile\u001b[0m\u001b[0;34m(\u001b[0m\u001b[0msource\u001b[0m\u001b[0;34m,\u001b[0m \u001b[0mfilename\u001b[0m\u001b[0;34m,\u001b[0m \u001b[0msymbol\u001b[0m\u001b[0;34m,\u001b[0m \u001b[0mself\u001b[0m\u001b[0;34m.\u001b[0m\u001b[0mflags\u001b[0m \u001b[0;34m|\u001b[0m \u001b[0mPyCF_ONLY_AST\u001b[0m\u001b[0;34m,\u001b[0m \u001b[0;36m1\u001b[0m\u001b[0;34m)\u001b[0m\u001b[0;34m\u001b[0m\u001b[0;34m\u001b[0m\u001b[0m\n",
      "\u001b[0m\u001b[0;32m    101 \u001b[0;31m\u001b[0;34m\u001b[0m\u001b[0m\n",
      "\u001b[0m\u001b[0;32m    102 \u001b[0;31m    \u001b[0;32mdef\u001b[0m \u001b[0mreset_compiler_flags\u001b[0m\u001b[0;34m(\u001b[0m\u001b[0mself\u001b[0m\u001b[0;34m)\u001b[0m\u001b[0;34m:\u001b[0m\u001b[0;34m\u001b[0m\u001b[0;34m\u001b[0m\u001b[0m\n",
      "\u001b[0m\n"
     ]
    },
    {
     "name": "stdin",
     "output_type": "stream",
     "text": [
      "ipdb>  u\n"
     ]
    },
    {
     "name": "stdout",
     "output_type": "stream",
     "text": [
      "*** Oldest frame\n"
     ]
    },
    {
     "name": "stdin",
     "output_type": "stream",
     "text": [
      "ipdb>  exit\n"
     ]
    }
   ],
   "source": [
    "%debug"
   ]
  },
  {
   "cell_type": "code",
   "execution_count": null,
   "metadata": {},
   "outputs": [],
   "source": []
  }
 ],
 "metadata": {
  "kernelspec": {
   "display_name": "Python 3",
   "language": "python",
   "name": "python3"
  },
  "language_info": {
   "codemirror_mode": {
    "name": "ipython",
    "version": 3
   },
   "file_extension": ".py",
   "mimetype": "text/x-python",
   "name": "python",
   "nbconvert_exporter": "python",
   "pygments_lexer": "ipython3",
   "version": "3.7.1"
  }
 },
 "nbformat": 4,
 "nbformat_minor": 2
}
