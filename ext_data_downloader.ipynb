{
 "cells": [
  {
   "cell_type": "markdown",
   "metadata": {},
   "source": [
    "https://www.kaggle.com/c/human-protein-atlas-image-classification/discussion/69984"
   ]
  },
  {
   "cell_type": "markdown",
   "metadata": {},
   "source": [
    "https://www.kaggle.com/c/human-protein-atlas-image-classification/discussion/69984#437386"
   ]
  },
  {
   "cell_type": "code",
   "execution_count": 8,
   "metadata": {},
   "outputs": [
    {
     "name": "stdout",
     "output_type": "stream",
     "text": [
      "Parent process 5234.\n"
     ]
    },
    {
     "name": "stderr",
     "output_type": "stream",
     "text": [
      "  0%|          | 0/3109 [00:00<?, ?it/s, 18]"
     ]
    },
    {
     "name": "stdout",
     "output_type": "stream",
     "text": [
      "Waiting for all subprocesses done...\n"
     ]
    },
    {
     "name": "stderr",
     "output_type": "stream",
     "text": [
      "100%|██████████| 3109/3109 [4:06:12<00:00,  4.39s/it, 23]\n",
      "100%|██████████| 3108/3108 [4:06:58<00:00,  4.36s/it, 4]\n",
      "100%|██████████| 3109/3109 [4:07:05<00:00,  4.44s/it, 8]\n",
      "100%|██████████| 3109/3109 [4:07:16<00:00,  4.92s/it, 6]\n",
      "100%|██████████| 3108/3108 [4:07:18<00:00,  4.98s/it, 7]\n",
      "100%|██████████| 3108/3108 [4:07:25<00:00,  5.15s/it, 16]\n",
      "100%|██████████| 3108/3108 [4:07:25<00:00,  4.90s/it, 2]\n",
      "100%|██████████| 3109/3109 [4:07:34<00:00,  4.76s/it, 3]\n",
      "100%|██████████| 3109/3109 [4:07:36<00:00,  4.48s/it, 11]\n",
      "100%|██████████| 3108/3108 [4:07:37<00:00,  5.23s/it, 0]\n",
      "100%|██████████| 3108/3108 [4:07:39<00:00,  4.62s/it, 14]\n",
      "100%|██████████| 3108/3108 [4:07:51<00:00,  4.43s/it, 19]\n",
      "100%|██████████| 3108/3108 [4:08:11<00:00,  4.77s/it, 9]\n",
      "100%|██████████| 3109/3109 [4:08:17<00:00,  5.24s/it, 15]\n",
      "100%|██████████| 3109/3109 [4:08:22<00:00,  5.05s/it, 10]\n",
      "100%|██████████| 3109/3109 [4:08:37<00:00,  4.46s/it, 5]\n",
      "100%|██████████| 3109/3109 [4:08:41<00:00,  4.53s/it, 13]\n",
      "100%|██████████| 3109/3109 [4:08:45<00:00,  4.82s/it, 17]\n",
      "100%|██████████| 3109/3109 [4:08:46<00:00,  4.33s/it, 22]\n",
      "100%|██████████| 3109/3109 [4:08:50<00:00,  4.57s/it, 1]\n",
      "100%|██████████| 3108/3108 [4:08:57<00:00,  4.72s/it, 21]\n",
      "100%|██████████| 3109/3109 [4:08:58<00:00,  4.93s/it, 20]\n",
      "100%|██████████| 3109/3109 [4:09:16<00:00,  4.28s/it, 18]\n",
      "100%|██████████| 3108/3108 [4:09:17<00:00,  4.78s/it, 12]\n"
     ]
    },
    {
     "name": "stdout",
     "output_type": "stream",
     "text": [
      "All subprocesses done.\n"
     ]
    }
   ],
   "source": [
    "\n",
    "    \n",
    "import os\n",
    "import errno\n",
    "from multiprocessing.pool import Pool\n",
    "from tqdm import tqdm\n",
    "import requests\n",
    "import pandas as pd\n",
    "from PIL import Image\n",
    "\n",
    "def download(pid, image_list, base_url, save_dir, image_size=(512, 512)):\n",
    "    colors = ['red', 'green', 'blue', 'yellow']\n",
    "    for i in tqdm(image_list, postfix=pid):\n",
    "        img_id = i.split('_', 1)\n",
    "        for color in colors:\n",
    "            img_path = img_id[0] + '/' + img_id[1] + '_' + color + '.jpg'\n",
    "            img_name = i + '_' + color + '.png'\n",
    "            img_url = base_url + img_path\n",
    "\n",
    "            # Get the raw response from the url\n",
    "            r = requests.get(img_url, allow_redirects=True, stream=True)\n",
    "            r.raw.decode_content = True\n",
    "\n",
    "            # Use PIL to resize the image and to convert it to L\n",
    "            # (8-bit pixels, black and white)\n",
    "            im = Image.open(r.raw)\n",
    "            im = im.resize(image_size, Image.LANCZOS).convert('L')\n",
    "            im.save(os.path.join(save_dir, img_name), 'PNG')\n",
    "\n",
    "if __name__ == '__main__':\n",
    "    # Parameters\n",
    "    process_num = 24\n",
    "    image_size = (512, 512)\n",
    "    url = 'http://v18.proteinatlas.org/images/'\n",
    "    csv_path =  \"/home/haider/data/human_protein_atlas/HPAv18RBGY_wodpl.csv\"\n",
    "    save_dir = \"/home/haider/data/human_protein_atlas/ext_train/\"\n",
    "\n",
    "    # Create the directory to save the images in case it doesn't exist\n",
    "    try:\n",
    "        os.makedirs(save_dir)\n",
    "    except OSError as exc:\n",
    "        if exc.errno != errno.EEXIST:\n",
    "            raise\n",
    "        pass\n",
    "\n",
    "    print('Parent process %s.' % os.getpid())\n",
    "    img_list = pd.read_csv(csv_path)['Id']\n",
    "    list_len = len(img_list)\n",
    "    p = Pool(process_num)\n",
    "    for i in range(process_num):\n",
    "        start = int(i * list_len / process_num)\n",
    "        end = int((i + 1) * list_len / process_num)\n",
    "        process_images = img_list[start:end]\n",
    "        p.apply_async(\n",
    "            download, args=(str(i), process_images, url, save_dir, image_size)\n",
    "        )\n",
    "    print('Waiting for all subprocesses done...')\n",
    "    p.close()\n",
    "    p.join()\n",
    "    print('All subprocesses done.')\n"
   ]
  },
  {
   "cell_type": "code",
   "execution_count": 3,
   "metadata": {},
   "outputs": [
    {
     "name": "stdout",
     "output_type": "stream",
     "text": [
      "> \u001b[0;32m/home/haider/anaconda3/envs/fastai-v1/lib/python3.7/site-packages/IPython/core/compilerop.py\u001b[0m(100)\u001b[0;36mast_parse\u001b[0;34m()\u001b[0m\n",
      "\u001b[0;32m     98 \u001b[0;31m        \u001b[0mArguments\u001b[0m \u001b[0mare\u001b[0m \u001b[0mexactly\u001b[0m \u001b[0mthe\u001b[0m \u001b[0msame\u001b[0m \u001b[0;32mas\u001b[0m \u001b[0mast\u001b[0m\u001b[0;34m.\u001b[0m\u001b[0mparse\u001b[0m \u001b[0;34m(\u001b[0m\u001b[0;32min\u001b[0m \u001b[0mthe\u001b[0m \u001b[0mstandard\u001b[0m \u001b[0mlibrary\u001b[0m\u001b[0;34m)\u001b[0m\u001b[0;34m,\u001b[0m\u001b[0;34m\u001b[0m\u001b[0;34m\u001b[0m\u001b[0m\n",
      "\u001b[0m\u001b[0;32m     99 \u001b[0;31m        and are passed to the built-in compile function.\"\"\"\n",
      "\u001b[0m\u001b[0;32m--> 100 \u001b[0;31m        \u001b[0;32mreturn\u001b[0m \u001b[0mcompile\u001b[0m\u001b[0;34m(\u001b[0m\u001b[0msource\u001b[0m\u001b[0;34m,\u001b[0m \u001b[0mfilename\u001b[0m\u001b[0;34m,\u001b[0m \u001b[0msymbol\u001b[0m\u001b[0;34m,\u001b[0m \u001b[0mself\u001b[0m\u001b[0;34m.\u001b[0m\u001b[0mflags\u001b[0m \u001b[0;34m|\u001b[0m \u001b[0mPyCF_ONLY_AST\u001b[0m\u001b[0;34m,\u001b[0m \u001b[0;36m1\u001b[0m\u001b[0;34m)\u001b[0m\u001b[0;34m\u001b[0m\u001b[0;34m\u001b[0m\u001b[0m\n",
      "\u001b[0m\u001b[0;32m    101 \u001b[0;31m\u001b[0;34m\u001b[0m\u001b[0m\n",
      "\u001b[0m\u001b[0;32m    102 \u001b[0;31m    \u001b[0;32mdef\u001b[0m \u001b[0mreset_compiler_flags\u001b[0m\u001b[0;34m(\u001b[0m\u001b[0mself\u001b[0m\u001b[0;34m)\u001b[0m\u001b[0;34m:\u001b[0m\u001b[0;34m\u001b[0m\u001b[0;34m\u001b[0m\u001b[0m\n",
      "\u001b[0m\n"
     ]
    },
    {
     "name": "stdin",
     "output_type": "stream",
     "text": [
      "ipdb>  u\n"
     ]
    },
    {
     "name": "stdout",
     "output_type": "stream",
     "text": [
      "*** Oldest frame\n"
     ]
    },
    {
     "name": "stdin",
     "output_type": "stream",
     "text": [
      "ipdb>  exit\n"
     ]
    }
   ],
   "source": [
    "%debug"
   ]
  },
  {
   "cell_type": "code",
   "execution_count": null,
   "metadata": {},
   "outputs": [],
   "source": []
  }
 ],
 "metadata": {
  "kernelspec": {
   "display_name": "Python 3",
   "language": "python",
   "name": "python3"
  },
  "language_info": {
   "codemirror_mode": {
    "name": "ipython",
    "version": 3
   },
   "file_extension": ".py",
   "mimetype": "text/x-python",
   "name": "python",
   "nbconvert_exporter": "python",
   "pygments_lexer": "ipython3",
   "version": "3.7.1"
  }
 },
 "nbformat": 4,
 "nbformat_minor": 2
}
